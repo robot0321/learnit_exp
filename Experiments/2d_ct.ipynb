{
 "cells": [
  {
   "cell_type": "code",
   "execution_count": 8,
   "metadata": {
    "id": "TBbFlddZEAFK"
   },
   "outputs": [],
   "source": [
    "import os\n",
    "os.environ['CUDA_VISIBLE_DEVICES'] = '4' ## Change to empty GPU\n",
    "os.environ['XLA_PYTHON_CLIENT_PREALLOCATE'] = 'false'\n",
    "\n",
    "!pip install -q optax\n",
    "!pip install -q git+https://github.com/deepmind/dm-haiku"
   ]
  },
  {
   "cell_type": "code",
   "execution_count": 9,
   "metadata": {
    "id": "MK1Jl7nkLnPA"
   },
   "outputs": [
    {
     "output_type": "error",
     "ename": "ImportError",
     "evalue": "cannot import name 'optix' from 'jax.experimental' (/home/chung/anaconda3/lib/python3.8/site-packages/jax/experimental/__init__.py)",
     "traceback": [
      "\u001b[0;31m---------------------------------------------------------------------------\u001b[0m",
      "\u001b[0;31mImportError\u001b[0m                               Traceback (most recent call last)",
      "\u001b[0;32m<ipython-input-9-c71fd7651f62>\u001b[0m in \u001b[0;36m<module>\u001b[0;34m\u001b[0m\n\u001b[1;32m      2\u001b[0m \u001b[0;32mimport\u001b[0m \u001b[0mjax\u001b[0m\u001b[0;34m\u001b[0m\u001b[0;34m\u001b[0m\u001b[0m\n\u001b[1;32m      3\u001b[0m \u001b[0;32mfrom\u001b[0m \u001b[0mjax\u001b[0m \u001b[0;32mimport\u001b[0m \u001b[0mrandom\u001b[0m\u001b[0;34m,\u001b[0m \u001b[0mgrad\u001b[0m\u001b[0;34m,\u001b[0m \u001b[0mjit\u001b[0m\u001b[0;34m,\u001b[0m \u001b[0mvmap\u001b[0m\u001b[0;34m,\u001b[0m \u001b[0mflatten_util\u001b[0m\u001b[0;34m,\u001b[0m \u001b[0mnn\u001b[0m\u001b[0;34m\u001b[0m\u001b[0;34m\u001b[0m\u001b[0m\n\u001b[0;32m----> 4\u001b[0;31m \u001b[0;32mfrom\u001b[0m \u001b[0mjax\u001b[0m\u001b[0;34m.\u001b[0m\u001b[0mexperimental\u001b[0m \u001b[0;32mimport\u001b[0m \u001b[0moptix\u001b[0m\u001b[0;34m\u001b[0m\u001b[0;34m\u001b[0m\u001b[0m\n\u001b[0m\u001b[1;32m      5\u001b[0m \u001b[0;32mfrom\u001b[0m \u001b[0mjax\u001b[0m\u001b[0;34m.\u001b[0m\u001b[0mconfig\u001b[0m \u001b[0;32mimport\u001b[0m \u001b[0mconfig\u001b[0m\u001b[0;34m\u001b[0m\u001b[0;34m\u001b[0m\u001b[0m\n\u001b[1;32m      6\u001b[0m \u001b[0;32mimport\u001b[0m \u001b[0mjax\u001b[0m\u001b[0;34m.\u001b[0m\u001b[0mnumpy\u001b[0m \u001b[0;32mas\u001b[0m \u001b[0mnp\u001b[0m\u001b[0;34m\u001b[0m\u001b[0;34m\u001b[0m\u001b[0m\n",
      "\u001b[0;31mImportError\u001b[0m: cannot import name 'optix' from 'jax.experimental' (/home/chung/anaconda3/lib/python3.8/site-packages/jax/experimental/__init__.py)"
     ]
    }
   ],
   "source": [
    "from functools import partial\n",
    "import jax\n",
    "from jax import random, grad, jit, vmap, flatten_util, nn\n",
    "from jax.experimental import optix\n",
    "from jax.config import config\n",
    "import jax.numpy as np\n",
    "\n",
    "import haiku as hk\n",
    "\n",
    "from livelossplot import PlotLosses\n",
    "import matplotlib.pyplot as plt\n",
    "from tqdm.notebook import tqdm as tqdm\n",
    "import os\n",
    "import cv2\n",
    "import imageio\n",
    "from jax.scipy import ndimage\n",
    "\n",
    "from phantominator import shepp_logan, ct_shepp_logan, ct_modified_shepp_logan_params_2d\n",
    "\n",
    "import pickle"
   ]
  },
  {
   "cell_type": "markdown",
   "metadata": {},
   "source": [
    "# Load Data"
   ]
  },
  {
   "cell_type": "code",
   "execution_count": 3,
   "metadata": {},
   "outputs": [
    {
     "output_type": "error",
     "ename": "FileNotFoundError",
     "evalue": "[Errno 2] No such file or directory: 'ct_256.pkl'",
     "traceback": [
      "\u001b[0;31m---------------------------------------------------------------------------\u001b[0m",
      "\u001b[0;31mFileNotFoundError\u001b[0m                         Traceback (most recent call last)",
      "\u001b[0;32m<ipython-input-3-6576c6ddc394>\u001b[0m in \u001b[0;36m<module>\u001b[0;34m\u001b[0m\n\u001b[1;32m      1\u001b[0m \u001b[0mDATA_DIR\u001b[0m \u001b[0;34m=\u001b[0m \u001b[0;34m'ct_256.pkl'\u001b[0m \u001b[0;31m## Update\u001b[0m\u001b[0;34m\u001b[0m\u001b[0;34m\u001b[0m\u001b[0m\n\u001b[1;32m      2\u001b[0m \u001b[0;34m\u001b[0m\u001b[0m\n\u001b[0;32m----> 3\u001b[0;31m \u001b[0;32mwith\u001b[0m \u001b[0mopen\u001b[0m\u001b[0;34m(\u001b[0m\u001b[0mDATA_DIR\u001b[0m\u001b[0;34m,\u001b[0m \u001b[0;34m'rb'\u001b[0m\u001b[0;34m)\u001b[0m \u001b[0;32mas\u001b[0m \u001b[0mfile\u001b[0m\u001b[0;34m:\u001b[0m\u001b[0;34m\u001b[0m\u001b[0;34m\u001b[0m\u001b[0m\n\u001b[0m\u001b[1;32m      4\u001b[0m     \u001b[0mdataset\u001b[0m \u001b[0;34m=\u001b[0m \u001b[0mpickle\u001b[0m\u001b[0;34m.\u001b[0m\u001b[0mload\u001b[0m\u001b[0;34m(\u001b[0m\u001b[0mfile\u001b[0m\u001b[0;34m)\u001b[0m\u001b[0;34m\u001b[0m\u001b[0;34m\u001b[0m\u001b[0m\n\u001b[1;32m      5\u001b[0m \u001b[0;34m\u001b[0m\u001b[0m\n",
      "\u001b[0;31mFileNotFoundError\u001b[0m: [Errno 2] No such file or directory: 'ct_256.pkl'"
     ]
    }
   ],
   "source": [
    "DATA_DIR = 'ct_256.pkl' ## Update\n",
    "\n",
    "with open(DATA_DIR, 'rb') as file:\n",
    "    dataset = pickle.load(file)\n",
    "    \n",
    "x1 = np.linspace(0, 1, dataset['data_test'][0].shape[0]+1)[:-1] # use full image resolution \n",
    "x_train = np.stack(np.meshgrid(x1,x1), axis=-1)\n",
    "x_test = x_train\n",
    "\n",
    "plt.figure(figsize=(15,8))\n",
    "for i in range(4):\n",
    "    plt.subplot(1,4,i+1)\n",
    "    plt.imshow(dataset['data_test'][i,:,:])\n",
    "plt.show()"
   ]
  },
  {
   "cell_type": "markdown",
   "metadata": {},
   "source": [
    "# Model"
   ]
  },
  {
   "cell_type": "code",
   "execution_count": 4,
   "metadata": {
    "id": "u-ARDfQhA7QM"
   },
   "outputs": [
    {
     "output_type": "error",
     "ename": "NameError",
     "evalue": "name 'hk' is not defined",
     "traceback": [
      "\u001b[0;31m---------------------------------------------------------------------------\u001b[0m",
      "\u001b[0;31mNameError\u001b[0m                                 Traceback (most recent call last)",
      "\u001b[0;32m<ipython-input-4-0e7257fb1418>\u001b[0m in \u001b[0;36m<module>\u001b[0;34m\u001b[0m\n\u001b[0;32m----> 1\u001b[0;31m \u001b[0;32mclass\u001b[0m \u001b[0mModel\u001b[0m\u001b[0;34m(\u001b[0m\u001b[0mhk\u001b[0m\u001b[0;34m.\u001b[0m\u001b[0mModule\u001b[0m\u001b[0;34m)\u001b[0m\u001b[0;34m:\u001b[0m\u001b[0;34m\u001b[0m\u001b[0;34m\u001b[0m\u001b[0m\n\u001b[0m\u001b[1;32m      2\u001b[0m     \u001b[0;32mdef\u001b[0m \u001b[0m__init__\u001b[0m\u001b[0;34m(\u001b[0m\u001b[0mself\u001b[0m\u001b[0;34m)\u001b[0m\u001b[0;34m:\u001b[0m\u001b[0;34m\u001b[0m\u001b[0;34m\u001b[0m\u001b[0m\n\u001b[1;32m      3\u001b[0m         \u001b[0msuper\u001b[0m\u001b[0;34m(\u001b[0m\u001b[0;34m)\u001b[0m\u001b[0;34m.\u001b[0m\u001b[0m__init__\u001b[0m\u001b[0;34m(\u001b[0m\u001b[0;34m)\u001b[0m\u001b[0;34m\u001b[0m\u001b[0;34m\u001b[0m\u001b[0m\n\u001b[1;32m      4\u001b[0m         \u001b[0mself\u001b[0m\u001b[0;34m.\u001b[0m\u001b[0mrff\u001b[0m \u001b[0;34m=\u001b[0m \u001b[0mrandom\u001b[0m\u001b[0;34m.\u001b[0m\u001b[0mnormal\u001b[0m\u001b[0;34m(\u001b[0m\u001b[0mjax\u001b[0m\u001b[0;34m.\u001b[0m\u001b[0mrandom\u001b[0m\u001b[0;34m.\u001b[0m\u001b[0mPRNGKey\u001b[0m\u001b[0;34m(\u001b[0m\u001b[0;36m0\u001b[0m\u001b[0;34m)\u001b[0m\u001b[0;34m,\u001b[0m \u001b[0mshape\u001b[0m\u001b[0;34m=\u001b[0m\u001b[0;34m(\u001b[0m\u001b[0;36m2\u001b[0m\u001b[0;34m,\u001b[0m\u001b[0;36m256\u001b[0m\u001b[0;34m)\u001b[0m\u001b[0;34m)\u001b[0m \u001b[0;34m*\u001b[0m \u001b[0;36m30\u001b[0m\u001b[0;34m\u001b[0m\u001b[0;34m\u001b[0m\u001b[0m\n\u001b[1;32m      5\u001b[0m         \u001b[0mself\u001b[0m\u001b[0;34m.\u001b[0m\u001b[0mwidth\u001b[0m \u001b[0;34m=\u001b[0m \u001b[0;36m256\u001b[0m\u001b[0;34m\u001b[0m\u001b[0;34m\u001b[0m\u001b[0m\n",
      "\u001b[0;31mNameError\u001b[0m: name 'hk' is not defined"
     ]
    }
   ],
   "source": [
    "class Model(hk.Module):\n",
    "    def __init__(self):\n",
    "        super().__init__()\n",
    "        self.rff = random.normal(jax.random.PRNGKey(0), shape=(2,256)) * 30\n",
    "        self.width = 256\n",
    "        self.depth = 5        \n",
    "        \n",
    "    def __call__(self, coords):\n",
    "        sh = coords.shape\n",
    "        coords = np.reshape(coords, [-1,2])\n",
    "        \n",
    "        x = np.concatenate([np.sin(coords @ self.rff), np.cos(coords @ self.rff)], axis=-1)\n",
    "\n",
    "        for _ in range(self.depth-1):\n",
    "            x = hk.Linear(output_size=self.width)(x)\n",
    "            x = jax.nn.relu(x)\n",
    "            \n",
    "        out = hk.Linear(output_size=1)(x)\n",
    "        out = jax.nn.sigmoid(out)\n",
    "        out = np.reshape(out, list(sh[:-1]))\n",
    "        return out"
   ]
  },
  {
   "cell_type": "markdown",
   "metadata": {},
   "source": [
    "# CT Projection"
   ]
  },
  {
   "cell_type": "code",
   "execution_count": null,
   "metadata": {},
   "outputs": [],
   "source": [
    "@jit\n",
    "def ct_project(img, theta):\n",
    "    y, x = np.meshgrid(np.arange(int(img.shape[0]), dtype=np.float32)/int(img.shape[0]) - 0.5, np.arange(int(img.shape[1]), dtype=np.float32)/int(img.shape[1]) - 0.5, indexing='ij')\n",
    "    x_rot = x*np.cos(theta) - y*np.sin(theta)\n",
    "    y_rot = x*np.sin(theta) + y*np.cos(theta)\n",
    "    x_rot = (x_rot + 0.5)*img.shape[1]\n",
    "    y_rot = (y_rot + 0.5)*img.shape[0]\n",
    "    sample_coords = np.stack([y_rot, x_rot], axis=0)\n",
    "    resampled = ndimage.map_coordinates(img, sample_coords, 0).reshape(img.shape)\n",
    "    return resampled.mean(axis=0)[:,None,...]\n",
    "\n",
    "ct_project_batch = vmap(ct_project, (None, 0), 0)\n",
    "ct_project_double_batch = vmap(ct_project_batch, (0, 0), 0)"
   ]
  },
  {
   "cell_type": "code",
   "execution_count": null,
   "metadata": {},
   "outputs": [],
   "source": [
    "thetas = np.linspace(0,np.pi, 128)\n",
    "test_img = dataset['data_test'][1]\n",
    "projections = ct_project_batch(test_img, thetas)\n",
    "\n",
    "plt.figure(figsize=(15,4))\n",
    "plt.subplot(1,2,1)\n",
    "plt.imshow(test_img)\n",
    "plt.title('Phantom')\n",
    "plt.subplot(1,2,2)\n",
    "plt.imshow(projections[:,:,0])\n",
    "plt.title('Sinogram')\n",
    "plt.show()"
   ]
  },
  {
   "cell_type": "markdown",
   "metadata": {
    "id": "4gAYa0bY49t6"
   },
   "source": [
    "# Train Model"
   ]
  },
  {
   "cell_type": "code",
   "execution_count": null,
   "metadata": {
    "id": "f3YvagSyT3AZ"
   },
   "outputs": [],
   "source": [
    "# Rerun to reset plots\n",
    "plt_groups = {'Train PSNR':[], 'Test PSNR':[]}\n",
    "plotlosses_model = PlotLosses(groups=plt_groups)"
   ]
  },
  {
   "cell_type": "code",
   "execution_count": null,
   "metadata": {
    "colab": {
     "base_uri": "https://localhost:8080/",
     "height": 1000,
     "referenced_widgets": [
      "d5330e5e30c7450387f3e1dcbe4fc2ae",
      "3034a533a62f445fab9560c4a46118d7",
      "8cf5caf1471e4a82b716c850c37231f0",
      "a335870a331a41b0a919d88d7c1618b4",
      "8066a93529a14542993888a8ed71e47a",
      "38dc7a2cc5014cfea3edd7a2a818f674",
      "dbe9a9d0e00a44f29530cd7e29d77012",
      "756ed9886ea248138baeb5a19c6d02d1"
     ]
    },
    "id": "u3LNlYHhzJj1",
    "outputId": "64862829-d8ab-4445-c6b2-7beb58e3d61d"
   },
   "outputs": [],
   "source": [
    "CHECKPOINT_DIR = 'checkpoint/ct_checkpoints/' # Choose dir to save checkpoints\n",
    "\n",
    "max_iters = 100000\n",
    "test_steps = 10\n",
    "\n",
    "batch_size = 1\n",
    "num_projections = 20\n",
    "num_test_projections = 10\n",
    "\n",
    "inner_update_steps = 12\n",
    "inner_lr = 10 #5e-3\n",
    "lr = 5e-5\n",
    "\n",
    "exp_name = f'ilr_{inner_lr}_olr_{lr}_ius_{inner_update_steps}_bs_{batch_size}'\n",
    "\n",
    "test_thetas = np.linspace(0, np.pi, num_test_projections, endpoint=False)\n",
    "\n",
    "coords = x_train\n",
    "\n",
    "key = hk.PRNGSequence(42)\n",
    "model = hk.without_apply_rng(hk.transform(lambda x: Model()(x)))\n",
    "params = model.init(next(key), np.ones((1,2)))\n",
    "\n",
    "opt = optix.adam(lr)#, b1=.5, b2=.9)\n",
    "opt_state = opt.init(params)\n",
    "\n",
    "opt_inner = optix.sgd(inner_lr)#, b1=.5, b2=.9)\n",
    "# opt_inner = optix.adam(inner_lr)#, b1=.5, b2=.9)\n",
    "\n",
    "mse_fn = jit(lambda x, y: np.mean((x - y)**2))\n",
    "psnr_fn = jit(lambda x, y: -10 * np.log10(mse_fn(x, y)))\n",
    "\n",
    "@partial(jit, static_argnums=[4])\n",
    "def model_step(image_proj, coords, thetas, params, opt, opt_state):\n",
    "    def loss_latent(params):\n",
    "        g = model.apply(params, coords)\n",
    "        g_proj = ct_project_batch(g, thetas)\n",
    "        return mse_fn(g_proj, image_proj)\n",
    "\n",
    "    loss, grad = jax.value_and_grad(loss_latent)(params)\n",
    "    updates, opt_state = opt.update(grad, opt_state)\n",
    "    params = optix.apply_updates(params, updates)\n",
    "    return params, opt_state, loss\n",
    "\n",
    "@partial(jit, static_argnums=[5])\n",
    "def update_network_weights(rng, image_proj, coords, thetas, params, update_steps):\n",
    "    opt_inner_state = opt_inner.init(params)\n",
    "    for _ in range(update_steps):\n",
    "        params, opt_inner_state, loss = model_step(image_proj, coords, thetas, params, opt_inner, opt_inner_state)\n",
    "    return rng, params, loss\n",
    "\n",
    "update_network_weights_batch = vmap(update_network_weights, in_axes=[0, 0, None, 0, None, None])\n",
    "\n",
    "@jit\n",
    "def update_model(rng, params, opt_state, image, coords, thetas):\n",
    "    image_proj = ct_project_double_batch(image, thetas)\n",
    "    rng = random.split(rng, batch_size)\n",
    "    rng, new_params, loss = update_network_weights_batch(rng, image_proj, coords, thetas, params, inner_update_steps)\n",
    "    rng, loss = rng[0], np.mean(loss)\n",
    "    new_params = jax.tree_map(lambda x: np.mean(x, axis=0), new_params)\n",
    "    def calc_grad(params, new_params):\n",
    "        return params - new_params\n",
    "\n",
    "    model_grad = jax.tree_multimap(calc_grad, params, new_params)\n",
    "\n",
    "    updates, opt_state = opt.update(model_grad, opt_state)\n",
    "    params = optix.apply_updates(params, updates)\n",
    "    return rng, params, opt_state, loss\n",
    "\n",
    "plt_groups['Train PSNR'].append(exp_name+f'_train')\n",
    "plt_groups['Test PSNR'].append(exp_name+f'_test')\n",
    "\n",
    "train_psnrs = []\n",
    "step = 0\n",
    "rng = random.PRNGKey(0)\n",
    "rng_test = random.PRNGKey(42)\n",
    "for step in tqdm(range(max_iters)):\n",
    "    rng, rng_input = random.split(rng)\n",
    "    train_idx = random.randint(rng_input, (batch_size,), 0, dataset['data_train'].shape[0])\n",
    "    train_img = dataset['data_train'][train_idx]\n",
    "    if batch_size == 1:\n",
    "        train_img = train_img[None,...]\n",
    "    \n",
    "    rng, rng_input = random.split(rng)\n",
    "    thetas = random.uniform(rng_input, (batch_size, num_projections), minval=0, maxval=np.pi)\n",
    "    \n",
    "    rng, params, opt_state, loss = update_model(rng, params, opt_state, train_img, coords, thetas)\n",
    "    train_psnrs.append(-10 * np.log10(loss))\n",
    "\n",
    "    if step % 500 == 0:\n",
    "        plotlosses_model.update({exp_name+'_train':np.mean(np.array(train_psnrs))}, current_step=step)\n",
    "        train_psnrs = []\n",
    "    if step % 500 == 0 and step != 0:\n",
    "        test_psnrs = []\n",
    "        for i in range(5):\n",
    "            test_img = dataset['data_test'][i]\n",
    "            test_img_proj = ct_project_batch(test_img, test_thetas)\n",
    "            _, params_test, loss = update_network_weights(rng_test, test_img_proj, coords, test_thetas, params, test_steps)\n",
    "            img = model.apply(params_test, coords)\n",
    "\n",
    "            test_psnrs.append(psnr_fn(img, test_img))\n",
    "        plotlosses_model.update({exp_name+'_test':np.mean(np.array(test_psnrs))}, current_step=step)\n",
    "        plotlosses_model.send()\n",
    "\n",
    "        plt.figure(figsize=(15,5))        \n",
    "        plt.subplot(1,2, 1)\n",
    "        plt.imshow(img)\n",
    "        plt.subplot(1,2, 2)\n",
    "        plt.imshow(test_img)\n",
    "        plt.show()\n",
    "    if step % 5000 == 0 and step != 0:\n",
    "        with open(f'{CHECKPOINT_DIR}/{exp_name}_{step}.pkl', 'wb') as file:\n",
    "            pickle.dump(params, file)\n"
   ]
  },
  {
   "cell_type": "markdown",
   "metadata": {},
   "source": [
    "# Evaluate Network\n",
    "\n",
    "### Test time optimization"
   ]
  },
  {
   "cell_type": "code",
   "execution_count": null,
   "metadata": {},
   "outputs": [],
   "source": [
    "mse_fn = jit(lambda x, y: np.mean((x - y)**2))\n",
    "psnr_fn = jit(lambda x, y: -10 * np.log10(mse_fn(x, y)))\n",
    "\n",
    "@partial(jit, static_argnums=[0,5])\n",
    "def test_model_step(model, image_proj, coords, thetas, params, opt, opt_state):\n",
    "    def loss_fn(params):\n",
    "        g = model.apply(params, coords)\n",
    "        g_proj = ct_project_batch(g, thetas)\n",
    "        return mse_fn(g_proj, image_proj), g\n",
    "\n",
    "    (loss, img), grad = jax.value_and_grad(loss_fn, has_aux=True)(params)\n",
    "    updates, opt_state = opt.update(grad, opt_state)\n",
    "    params = optix.apply_updates(params, updates)\n",
    "    return params, opt_state, loss, img\n",
    "\n",
    "def train_model(image, lr, steps, num_views, adam=True, params=None):\n",
    "    rng = random.PRNGKey(0)\n",
    "    x1 = np.linspace(0, 1, RES+1)[:-1]\n",
    "    coords = np.stack(np.meshgrid(x1,x1), axis=-1)\n",
    "    \n",
    "    thetas = np.linspace(0,np.pi, num_views, endpoint=False)\n",
    "    image_proj = ct_project_batch(image, thetas)\n",
    "\n",
    "    model = hk.without_apply_rng(hk.transform(lambda x: Model()(x)))\n",
    "    if params is None:\n",
    "        params = model.init(rng, coords)\n",
    "        \n",
    "    if adam:\n",
    "        opt = optix.adam(lr)\n",
    "    else:\n",
    "        opt = optix.sgd(lr)\n",
    "    opt_state = opt.init(params)\n",
    "    \n",
    "    train_psnrs = []\n",
    "    test_psnrs = []\n",
    "    for i in range(steps):\n",
    "        params, opt_state, loss, img = test_model_step(model, image_proj, coords, thetas, params, opt, opt_state)\n",
    "        train_psnrs.append(-10 * np.log10(loss))\n",
    "        test_psnrs.append(psnr_fn(img, image))\n",
    "\n",
    "    return train_psnrs, test_psnrs, img, params"
   ]
  },
  {
   "cell_type": "markdown",
   "metadata": {},
   "source": [
    "### Load Checkpoint (optional)"
   ]
  },
  {
   "cell_type": "code",
   "execution_count": null,
   "metadata": {},
   "outputs": [],
   "source": [
    "chkpt_pkl = 'checkpoint/ct_checkpoints/ilr_10_olr_5e-05_ius_12_bs_1_100000.pkl'\n",
    "\n",
    "with open(chkpt_pkl, 'rb') as file:\n",
    "    params = pickle.load(file)"
   ]
  },
  {
   "cell_type": "code",
   "execution_count": null,
   "metadata": {},
   "outputs": [],
   "source": [
    "    'maml': {\n",
    "        'params': params_maml,\n",
    "        'lr': 10,\n",
    "        'adam': False,\n",
    "        'steps': [50,100,1000,1000]\n",
    "    },\n",
    "    'reptile': {\n",
    "        'params': params_reptile,\n",
    "        'lr': 10,\n",
    "        'adam': False,\n",
    "        'steps': [50,100,1000,1000]\n",
    "    },"
   ]
  },
  {
   "cell_type": "markdown",
   "metadata": {},
   "source": [
    "### Render Examples"
   ]
  },
  {
   "cell_type": "code",
   "execution_count": null,
   "metadata": {
    "colab": {
     "base_uri": "https://localhost:8080/",
     "height": 658
    },
    "id": "2LI4hpli3Q_X",
    "outputId": "7ab86eb4-fe5b-4ce8-fbcd-93598e336e34"
   },
   "outputs": [],
   "source": [
    "num_views = 6\n",
    "lr = 10\n",
    "steps = 1000\n",
    "adam = False\n",
    "\n",
    "num_examples = 4\n",
    "\n",
    "for image in dataset['data_test'][:num_examples]:\n",
    "    train_psnrs, test_psnrs, rec_img, _ = train_model(image, lr, steps, num_views, adam, params)\n",
    "    rec_img = (np.clip(rec_img, 0, 1)*255).astype(np.uint8)\n",
    "    \n",
    "    plt.figure(figsize=(15,4))\n",
    "    plt.subplot(1,2,1)\n",
    "    plt.imshow(image)\n",
    "    plt.title('Target')\n",
    "    plt.subplot(1,2,2)\n",
    "    plt.imshow(rec_img)\n",
    "    plt.title(f'Reconstruction ({num_views} views)')\n",
    "    plt.show()"
   ]
  }
 ],
 "metadata": {
  "accelerator": "GPU",
  "colab": {
   "collapsed_sections": [],
   "name": "reptile_2d_image.ipynb",
   "provenance": []
  },
  "kernelspec": {
   "name": "python383jvsc74a57bd042a95c1ff20a2fd4e5dd44aa29f233d0116f948f1fd19c7e36a96350a2f09d47",
   "display_name": "Python 3.8.3 64-bit ('base': conda)"
  },
  "language_info": {
   "codemirror_mode": {
    "name": "ipython",
    "version": 3
   },
   "file_extension": ".py",
   "mimetype": "text/x-python",
   "name": "python",
   "nbconvert_exporter": "python",
   "pygments_lexer": "ipython3",
   "version": "3.8.3"
  },
  "widgets": {
   "application/vnd.jupyter.widget-state+json": {
    "3034a533a62f445fab9560c4a46118d7": {
     "model_module": "@jupyter-widgets/controls",
     "model_name": "FloatProgressModel",
     "state": {
      "_dom_classes": [],
      "_model_module": "@jupyter-widgets/controls",
      "_model_module_version": "1.5.0",
      "_model_name": "FloatProgressModel",
      "_view_count": null,
      "_view_module": "@jupyter-widgets/controls",
      "_view_module_version": "1.5.0",
      "_view_name": "ProgressView",
      "bar_style": "danger",
      "description": "iter: ",
      "description_tooltip": null,
      "layout": "IPY_MODEL_8066a93529a14542993888a8ed71e47a",
      "max": 1,
      "min": 0,
      "orientation": "horizontal",
      "style": "IPY_MODEL_38dc7a2cc5014cfea3edd7a2a818f674",
      "value": 1
     }
    },
    "38dc7a2cc5014cfea3edd7a2a818f674": {
     "model_module": "@jupyter-widgets/controls",
     "model_name": "ProgressStyleModel",
     "state": {
      "_model_module": "@jupyter-widgets/controls",
      "_model_module_version": "1.5.0",
      "_model_name": "ProgressStyleModel",
      "_view_count": null,
      "_view_module": "@jupyter-widgets/base",
      "_view_module_version": "1.2.0",
      "_view_name": "StyleView",
      "bar_color": null,
      "description_width": "initial"
     }
    },
    "756ed9886ea248138baeb5a19c6d02d1": {
     "model_module": "@jupyter-widgets/controls",
     "model_name": "DescriptionStyleModel",
     "state": {
      "_model_module": "@jupyter-widgets/controls",
      "_model_module_version": "1.5.0",
      "_model_name": "DescriptionStyleModel",
      "_view_count": null,
      "_view_module": "@jupyter-widgets/base",
      "_view_module_version": "1.2.0",
      "_view_name": "StyleView",
      "description_width": ""
     }
    },
    "8066a93529a14542993888a8ed71e47a": {
     "model_module": "@jupyter-widgets/base",
     "model_name": "LayoutModel",
     "state": {
      "_model_module": "@jupyter-widgets/base",
      "_model_module_version": "1.2.0",
      "_model_name": "LayoutModel",
      "_view_count": null,
      "_view_module": "@jupyter-widgets/base",
      "_view_module_version": "1.2.0",
      "_view_name": "LayoutView",
      "align_content": null,
      "align_items": null,
      "align_self": null,
      "border": null,
      "bottom": null,
      "display": null,
      "flex": null,
      "flex_flow": null,
      "grid_area": null,
      "grid_auto_columns": null,
      "grid_auto_flow": null,
      "grid_auto_rows": null,
      "grid_column": null,
      "grid_gap": null,
      "grid_row": null,
      "grid_template_areas": null,
      "grid_template_columns": null,
      "grid_template_rows": null,
      "height": null,
      "justify_content": null,
      "justify_items": null,
      "left": null,
      "margin": null,
      "max_height": null,
      "max_width": null,
      "min_height": null,
      "min_width": null,
      "object_fit": null,
      "object_position": null,
      "order": null,
      "overflow": null,
      "overflow_x": null,
      "overflow_y": null,
      "padding": null,
      "right": null,
      "top": null,
      "visibility": null,
      "width": null
     }
    },
    "8cf5caf1471e4a82b716c850c37231f0": {
     "model_module": "@jupyter-widgets/controls",
     "model_name": "HTMLModel",
     "state": {
      "_dom_classes": [],
      "_model_module": "@jupyter-widgets/controls",
      "_model_module_version": "1.5.0",
      "_model_name": "HTMLModel",
      "_view_count": null,
      "_view_module": "@jupyter-widgets/controls",
      "_view_module_version": "1.5.0",
      "_view_name": "HTMLView",
      "description": "",
      "description_tooltip": null,
      "layout": "IPY_MODEL_dbe9a9d0e00a44f29530cd7e29d77012",
      "placeholder": "​",
      "style": "IPY_MODEL_756ed9886ea248138baeb5a19c6d02d1",
      "value": " 7546/? [23:12&lt;00:00,  5.48it/s]"
     }
    },
    "a335870a331a41b0a919d88d7c1618b4": {
     "model_module": "@jupyter-widgets/base",
     "model_name": "LayoutModel",
     "state": {
      "_model_module": "@jupyter-widgets/base",
      "_model_module_version": "1.2.0",
      "_model_name": "LayoutModel",
      "_view_count": null,
      "_view_module": "@jupyter-widgets/base",
      "_view_module_version": "1.2.0",
      "_view_name": "LayoutView",
      "align_content": null,
      "align_items": null,
      "align_self": null,
      "border": null,
      "bottom": null,
      "display": null,
      "flex": null,
      "flex_flow": null,
      "grid_area": null,
      "grid_auto_columns": null,
      "grid_auto_flow": null,
      "grid_auto_rows": null,
      "grid_column": null,
      "grid_gap": null,
      "grid_row": null,
      "grid_template_areas": null,
      "grid_template_columns": null,
      "grid_template_rows": null,
      "height": null,
      "justify_content": null,
      "justify_items": null,
      "left": null,
      "margin": null,
      "max_height": null,
      "max_width": null,
      "min_height": null,
      "min_width": null,
      "object_fit": null,
      "object_position": null,
      "order": null,
      "overflow": null,
      "overflow_x": null,
      "overflow_y": null,
      "padding": null,
      "right": null,
      "top": null,
      "visibility": null,
      "width": null
     }
    },
    "d5330e5e30c7450387f3e1dcbe4fc2ae": {
     "model_module": "@jupyter-widgets/controls",
     "model_name": "HBoxModel",
     "state": {
      "_dom_classes": [],
      "_model_module": "@jupyter-widgets/controls",
      "_model_module_version": "1.5.0",
      "_model_name": "HBoxModel",
      "_view_count": null,
      "_view_module": "@jupyter-widgets/controls",
      "_view_module_version": "1.5.0",
      "_view_name": "HBoxView",
      "box_style": "",
      "children": [
       "IPY_MODEL_3034a533a62f445fab9560c4a46118d7",
       "IPY_MODEL_8cf5caf1471e4a82b716c850c37231f0"
      ],
      "layout": "IPY_MODEL_a335870a331a41b0a919d88d7c1618b4"
     }
    },
    "dbe9a9d0e00a44f29530cd7e29d77012": {
     "model_module": "@jupyter-widgets/base",
     "model_name": "LayoutModel",
     "state": {
      "_model_module": "@jupyter-widgets/base",
      "_model_module_version": "1.2.0",
      "_model_name": "LayoutModel",
      "_view_count": null,
      "_view_module": "@jupyter-widgets/base",
      "_view_module_version": "1.2.0",
      "_view_name": "LayoutView",
      "align_content": null,
      "align_items": null,
      "align_self": null,
      "border": null,
      "bottom": null,
      "display": null,
      "flex": null,
      "flex_flow": null,
      "grid_area": null,
      "grid_auto_columns": null,
      "grid_auto_flow": null,
      "grid_auto_rows": null,
      "grid_column": null,
      "grid_gap": null,
      "grid_row": null,
      "grid_template_areas": null,
      "grid_template_columns": null,
      "grid_template_rows": null,
      "height": null,
      "justify_content": null,
      "justify_items": null,
      "left": null,
      "margin": null,
      "max_height": null,
      "max_width": null,
      "min_height": null,
      "min_width": null,
      "object_fit": null,
      "object_position": null,
      "order": null,
      "overflow": null,
      "overflow_x": null,
      "overflow_y": null,
      "padding": null,
      "right": null,
      "top": null,
      "visibility": null,
      "width": null
     }
    }
   }
  }
 },
 "nbformat": 4,
 "nbformat_minor": 4
}